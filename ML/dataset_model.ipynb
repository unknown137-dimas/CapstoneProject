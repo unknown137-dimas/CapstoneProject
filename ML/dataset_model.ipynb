{
  "nbformat": 4,
  "nbformat_minor": 0,
  "metadata": {
    "colab": {
      "name": "dataset_model.ipynb",
      "provenance": [],
      "collapsed_sections": [],
      "include_colab_link": true
    },
    "kernelspec": {
      "name": "python3",
      "display_name": "Python 3"
    },
    "language_info": {
      "name": "python"
    }
  },
  "cells": [
    {
      "cell_type": "markdown",
      "metadata": {
        "id": "view-in-github",
        "colab_type": "text"
      },
      "source": [
        "<a href=\"https://colab.research.google.com/github/unknown137-dimas/CapstoneProject/blob/master/ML/dataset_model.ipynb\" target=\"_parent\"><img src=\"https://colab.research.google.com/assets/colab-badge.svg\" alt=\"Open In Colab\"/></a>"
      ]
    },
    {
      "cell_type": "markdown",
      "source": [
        "# Setup"
      ],
      "metadata": {
        "id": "RNVNQAgw-JL2"
      }
    },
    {
      "cell_type": "code",
      "execution_count": 1,
      "metadata": {
        "id": "ZO3-CIp73_KK"
      },
      "outputs": [],
      "source": [
        "import tensorflow as tf\n",
        "import numpy as np\n",
        "import pandas as pd\n",
        "from tensorflow import keras\n",
        "import matplotlib.pyplot as plt"
      ]
    },
    {
      "cell_type": "code",
      "source": [
        "from google.colab import drive\n",
        "drive.mount('/content/drive')"
      ],
      "metadata": {
        "colab": {
          "base_uri": "https://localhost:8080/"
        },
        "id": "R6zHhGpajwSG",
        "outputId": "5168c6df-4da2-4479-8483-cecb970a3566"
      },
      "execution_count": 6,
      "outputs": [
        {
          "output_type": "stream",
          "name": "stdout",
          "text": [
            "Mounted at /content/drive\n"
          ]
        }
      ]
    },
    {
      "cell_type": "code",
      "source": [
        "TRAIN_FILE_PATH = '/content/drive/MyDrive/Colab Notebooks/Capstone Project/train_dataset.csv'\n",
        "TEST_FILE_PATH = '/content/drive/MyDrive/Colab Notebooks/Capstone Project/test_dataset.csv'\n",
        "SAVED_FILE_PATH = '/content/drive/MyDrive/Colab Notebooks/Capstone Project/savedModel/dataset_model'\n",
        "TFLITE_FILE_PATH = '/content/drive/MyDrive/Colab Notebooks/Capstone Project/savedModel/converted_model.tflite'"
      ],
      "metadata": {
        "id": "eGSN4V_i-LnU"
      },
      "execution_count": 2,
      "outputs": []
    },
    {
      "cell_type": "code",
      "source": [
        "# Make numpy values easier to read.\n",
        "np.set_printoptions(precision=3, suppress=True)"
      ],
      "metadata": {
        "id": "Z3SG_cZmwafc"
      },
      "execution_count": 3,
      "outputs": []
    },
    {
      "cell_type": "markdown",
      "source": [
        "# Data Preprocessing"
      ],
      "metadata": {
        "id": "K6W5h6Y5z3mn"
      }
    },
    {
      "cell_type": "code",
      "source": [
        "train_file = pd.read_csv(TRAIN_FILE_PATH)\n",
        "test_file = pd.read_csv(TEST_FILE_PATH)\n",
        "labels = ['finance', 'branding']"
      ],
      "metadata": {
        "id": "Y5yNKE470ED1"
      },
      "execution_count": 7,
      "outputs": []
    },
    {
      "cell_type": "code",
      "source": [
        "train_dataset = tf.data.Dataset.from_tensor_slices((train_file.drop('label', axis=1).values, train_file['label'].values)).shuffle(150)\n",
        "train_dataset = train_dataset.map(lambda x, y: (x, tf.where(tf.equal(labels, y))[0])).batch(50)\n",
        "\n",
        "test_dataset = tf.data.Dataset.from_tensor_slices((test_file.drop('label', axis=1).values, test_file['label'].values))\n",
        "test_dataset = test_dataset.map(lambda x, y: (x, tf.where(tf.equal(labels, y))[0])).batch(50)"
      ],
      "metadata": {
        "id": "N0umvvmA8t03"
      },
      "execution_count": 8,
      "outputs": []
    },
    {
      "cell_type": "markdown",
      "source": [
        "# Model Training"
      ],
      "metadata": {
        "id": "WwTfKQWczuwH"
      }
    },
    {
      "cell_type": "code",
      "source": [
        "model = tf.keras.Sequential([keras.layers.Dense(units=128, activation='relu'),\n",
        "                             keras.layers.Dense(units=128, activation='relu'),\n",
        "                             keras.layers.Dense(units=2, activation='softmax')\n",
        "                            ])"
      ],
      "metadata": {
        "id": "gI_5ABl24CPg"
      },
      "execution_count": 12,
      "outputs": []
    },
    {
      "cell_type": "code",
      "source": [
        "# Compile the model\n",
        "model.compile(optimizer='adam', loss='sparse_categorical_crossentropy',metrics=['accuracy'])"
      ],
      "metadata": {
        "id": "Iz9zLXE54EIn"
      },
      "execution_count": 13,
      "outputs": []
    },
    {
      "cell_type": "code",
      "source": [
        "# Train the model\n",
        "history = model.fit(train_dataset, epochs=15, validation_data=test_dataset)"
      ],
      "metadata": {
        "id": "DnfRa7sD4Hfd",
        "colab": {
          "base_uri": "https://localhost:8080/"
        },
        "outputId": "83fdb1e4-a403-460b-ee54-3d6218d744be"
      },
      "execution_count": 14,
      "outputs": [
        {
          "output_type": "stream",
          "name": "stdout",
          "text": [
            "Epoch 1/15\n",
            "20/20 [==============================] - 0s 9ms/step - loss: 0.5087 - accuracy: 0.7660 - val_loss: 0.3423 - val_accuracy: 0.9300\n",
            "Epoch 2/15\n",
            "20/20 [==============================] - 0s 5ms/step - loss: 0.2444 - accuracy: 0.9270 - val_loss: 0.1916 - val_accuracy: 0.9300\n",
            "Epoch 3/15\n",
            "20/20 [==============================] - 0s 5ms/step - loss: 0.1471 - accuracy: 0.9530 - val_loss: 0.1213 - val_accuracy: 0.9500\n",
            "Epoch 4/15\n",
            "20/20 [==============================] - 0s 4ms/step - loss: 0.0981 - accuracy: 0.9880 - val_loss: 0.0798 - val_accuracy: 1.0000\n",
            "Epoch 5/15\n",
            "20/20 [==============================] - 0s 5ms/step - loss: 0.0724 - accuracy: 1.0000 - val_loss: 0.0591 - val_accuracy: 1.0000\n",
            "Epoch 6/15\n",
            "20/20 [==============================] - 0s 4ms/step - loss: 0.0590 - accuracy: 1.0000 - val_loss: 0.0498 - val_accuracy: 0.9900\n",
            "Epoch 7/15\n",
            "20/20 [==============================] - 0s 4ms/step - loss: 0.0465 - accuracy: 1.0000 - val_loss: 0.0466 - val_accuracy: 0.9800\n",
            "Epoch 8/15\n",
            "20/20 [==============================] - 0s 4ms/step - loss: 0.0388 - accuracy: 0.9990 - val_loss: 0.0344 - val_accuracy: 1.0000\n",
            "Epoch 9/15\n",
            "20/20 [==============================] - 0s 5ms/step - loss: 0.0336 - accuracy: 0.9990 - val_loss: 0.0315 - val_accuracy: 1.0000\n",
            "Epoch 10/15\n",
            "20/20 [==============================] - 0s 4ms/step - loss: 0.0274 - accuracy: 1.0000 - val_loss: 0.0269 - val_accuracy: 1.0000\n",
            "Epoch 11/15\n",
            "20/20 [==============================] - 0s 4ms/step - loss: 0.0230 - accuracy: 1.0000 - val_loss: 0.0230 - val_accuracy: 1.0000\n",
            "Epoch 12/15\n",
            "20/20 [==============================] - 0s 4ms/step - loss: 0.0197 - accuracy: 1.0000 - val_loss: 0.0210 - val_accuracy: 1.0000\n",
            "Epoch 13/15\n",
            "20/20 [==============================] - 0s 4ms/step - loss: 0.0174 - accuracy: 1.0000 - val_loss: 0.0172 - val_accuracy: 1.0000\n",
            "Epoch 14/15\n",
            "20/20 [==============================] - 0s 4ms/step - loss: 0.0145 - accuracy: 1.0000 - val_loss: 0.0144 - val_accuracy: 1.0000\n",
            "Epoch 15/15\n",
            "20/20 [==============================] - 0s 4ms/step - loss: 0.0146 - accuracy: 1.0000 - val_loss: 0.0129 - val_accuracy: 1.0000\n"
          ]
        }
      ]
    },
    {
      "cell_type": "code",
      "source": [
        "model.summary()"
      ],
      "metadata": {
        "colab": {
          "base_uri": "https://localhost:8080/"
        },
        "id": "TEDWc5tv_RXl",
        "outputId": "0d8f626a-62cb-442e-bcd3-1766db0e6087"
      },
      "execution_count": 15,
      "outputs": [
        {
          "output_type": "stream",
          "name": "stdout",
          "text": [
            "Model: \"sequential_1\"\n",
            "_________________________________________________________________\n",
            " Layer (type)                Output Shape              Param #   \n",
            "=================================================================\n",
            " dense_3 (Dense)             (None, 128)               896       \n",
            "                                                                 \n",
            " dense_4 (Dense)             (None, 128)               16512     \n",
            "                                                                 \n",
            " dense_5 (Dense)             (None, 2)                 258       \n",
            "                                                                 \n",
            "=================================================================\n",
            "Total params: 17,666\n",
            "Trainable params: 17,666\n",
            "Non-trainable params: 0\n",
            "_________________________________________________________________\n"
          ]
        }
      ]
    },
    {
      "cell_type": "code",
      "source": [
        "#-----------------------------------------------------------\n",
        "# Retrieve a list of list results on training data\n",
        "# sets for the last 100 training epoch\n",
        "#-----------------------------------------------------------\n",
        "\n",
        "acc=history.history['accuracy']\n",
        "loss=history.history['loss']\n",
        "val_acc=history.history['val_accuracy']\n",
        "val_loss=history.history['val_loss']\n",
        "\n",
        "epochs=range(len(acc)) # Get number of epochs\n",
        "\n",
        "#------------------------------------------------\n",
        "# Plot training and validation accuracy per epoch\n",
        "#------------------------------------------------\n",
        "plt.plot(epochs, acc, 'r')\n",
        "plt.plot(epochs, val_acc, 'b')\n",
        "plt.title('Training and validation accuracy')\n",
        "plt.legend(['accuracy', 'val_accuracy'])\n",
        "plt.xlabel('Epoch')\n",
        "plt.ylabel('Accuracy')\n",
        "plt.show()\n",
        "print(\"\")\n",
        "\n",
        "#------------------------------------------------\n",
        "# Plot training and validation loss per epoch\n",
        "#------------------------------------------------\n",
        "plt.plot(epochs, loss,'r')\n",
        "plt.plot(epochs, val_loss, 'b')\n",
        "plt.title('Training and validation loss')\n",
        "plt.legend(['loss', 'val_loss'])\n",
        "plt.xlabel('Epoch')\n",
        "plt.ylabel('Loss')\n",
        "plt.show()"
      ],
      "metadata": {
        "colab": {
          "base_uri": "https://localhost:8080/",
          "height": 590
        },
        "id": "v0Sv6DGcDw0f",
        "outputId": "8ea17fe9-ca84-43a2-fcaf-1706c38eba2b"
      },
      "execution_count": 16,
      "outputs": [
        {
          "output_type": "display_data",
          "data": {
            "text/plain": [
              "<Figure size 432x288 with 1 Axes>"
            ],
            "image/png": "[encoded data removed]"
          },
          "metadata": {
            "needs_background": "light"
          }
        },
        {
          "output_type": "stream",
          "name": "stdout",
          "text": [
            "\n"
          ]
        },
        {
          "output_type": "display_data",
          "data": {
            "text/plain": [
              "<Figure size 432x288 with 1 Axes>"
            ],
            "image/png": "[encoded data removed]"
          },
          "metadata": {
            "needs_background": "light"
          }
        }
      ]
    },
    {
      "cell_type": "code",
      "source": [
        "test_loss, test_accuracy = model.evaluate(test_dataset)"
      ],
      "metadata": {
        "colab": {
          "base_uri": "https://localhost:8080/"
        },
        "id": "mCXx94OGIAM3",
        "outputId": "09527626-4d51-4d16-ab6f-4f2108035b52"
      },
      "execution_count": 17,
      "outputs": [
        {
          "output_type": "stream",
          "name": "stdout",
          "text": [
            "2/2 [==============================] - 0s 5ms/step - loss: 0.0129 - accuracy: 1.0000\n"
          ]
        }
      ]
    },
    {
      "cell_type": "markdown",
      "source": [
        "# Prediction"
      ],
      "metadata": {
        "id": "Kj6AghW8z9mC"
      }
    },
    {
      "cell_type": "code",
      "source": [
        "# Make a prediction\n",
        "#['finance', 'branding']\n",
        "output_array = model.predict([[4,4,5,4,4,4]])\n",
        "print(output_array, labels[np.argmax(output_array)])"
      ],
      "metadata": {
        "id": "T30WJhBW4I5e",
        "colab": {
          "base_uri": "https://localhost:8080/"
        },
        "outputId": "93e3a9fb-3165-44d9-f32f-e9519341e472"
      },
      "execution_count": 19,
      "outputs": [
        {
          "output_type": "stream",
          "name": "stdout",
          "text": [
            "[[0.06 0.94]] branding\n"
          ]
        }
      ]
    },
    {
      "cell_type": "markdown",
      "source": [
        "# Save Model"
      ],
      "metadata": {
        "id": "uhaeMj4Ks7fy"
      }
    },
    {
      "cell_type": "code",
      "source": [
        "!mkdir -p '/content/drive/MyDrive/Colab Notebooks/Capstone Project/savedModel'\n",
        "model.save(SAVED_FILE_PATH)"
      ],
      "metadata": {
        "colab": {
          "base_uri": "https://localhost:8080/"
        },
        "id": "B1eW_E5RtCqD",
        "outputId": "d7ce3dfb-cce7-4eca-8574-295087038952"
      },
      "execution_count": 20,
      "outputs": [
        {
          "output_type": "stream",
          "name": "stdout",
          "text": [
            "INFO:tensorflow:Assets written to: /content/drive/MyDrive/Colab Notebooks/Capstone Project/savedModel/dataset_model/assets\n"
          ]
        }
      ]
    },
    {
      "cell_type": "markdown",
      "source": [
        "# Test Saved Model"
      ],
      "metadata": {
        "id": "00zag5Ef6uPM"
      }
    },
    {
      "cell_type": "code",
      "source": [
        "saved_model = tf.keras.models.load_model(SAVED_FILE_PATH)\n",
        "\n",
        "# Make a prediction\n",
        "#['finance', 'branding']\n",
        "output_array = saved_model.predict([[4,3,2,3,1,2]])\n",
        "print(output_array, labels[np.argmax(output_array)])"
      ],
      "metadata": {
        "colab": {
          "base_uri": "https://localhost:8080/"
        },
        "id": "_RbDLGZo63Nd",
        "outputId": "7ba1bfc8-6d4a-4884-bb9d-4a0d64c0e64d"
      },
      "execution_count": 21,
      "outputs": [
        {
          "output_type": "stream",
          "name": "stdout",
          "text": [
            "[[0. 1.]] branding\n"
          ]
        }
      ]
    },
    {
      "cell_type": "markdown",
      "source": [
        "# Convert to TFLite"
      ],
      "metadata": {
        "id": "m4OKdrSB35jE"
      }
    },
    {
      "cell_type": "code",
      "source": [
        "converter = tf.lite.TFLiteConverter.from_saved_model(SAVED_FILE_PATH)\n",
        "converter.optimizations = [tf.lite.Optimize.DEFAULT]\n",
        "tflite_model = converter.convert()\n",
        "with open(TFLITE_FILE_PATH, \"wb\") as f:\n",
        "    f.write(tflite_model)"
      ],
      "metadata": {
        "colab": {
          "base_uri": "https://localhost:8080/"
        },
        "id": "537v3Lgp3-T0",
        "outputId": "7ec1a932-d51f-4808-c6af-c48793a9fc61"
      },
      "execution_count": 22,
      "outputs": [
        {
          "output_type": "stream",
          "name": "stderr",
          "text": [
            "WARNING:absl:Buffer deduplication procedure will be skipped when flatbuffer library is not properly loaded\n"
          ]
        }
      ]
    },
    {
      "cell_type": "markdown",
      "source": [
        "# Test Converted Model"
      ],
      "metadata": {
        "id": "vanG5Ehe9k8V"
      }
    },
    {
      "cell_type": "code",
      "source": [
        "interpreter = tf.lite.Interpreter(TFLITE_FILE_PATH)\n",
        "interpreter.allocate_tensors()\n",
        "input_index = interpreter.get_input_details()[0][\"index\"]\n",
        "output_index = interpreter.get_output_details()[0][\"index\"]\n",
        "\n",
        "# Make a prediction\n",
        "#['finance', 'branding']\n",
        "interpreter.set_tensor(input_index, [[4,4,5,4,4,4]])\n",
        "interpreter.invoke()\n",
        "output_array = interpreter.get_tensor(output_index)\n",
        "print(output_array, labels[np.argmax(output_array)])"
      ],
      "metadata": {
        "colab": {
          "base_uri": "https://localhost:8080/"
        },
        "id": "cU1B_SCE_Cot",
        "outputId": "44350049-3d6f-44dc-aa66-6ed1a2463070"
      },
      "execution_count": 23,
      "outputs": [
        {
          "output_type": "stream",
          "name": "stdout",
          "text": [
            "[[0.061 0.939]] branding\n"
          ]
        }
      ]
    }
  ]
}