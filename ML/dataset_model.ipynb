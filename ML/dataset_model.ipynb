{
  "nbformat": 4,
  "nbformat_minor": 0,
  "metadata": {
    "colab": {
      "name": "dataset_model.ipynb",
      "provenance": [],
      "collapsed_sections": [],
      "include_colab_link": true
    },
    "kernelspec": {
      "name": "python3",
      "display_name": "Python 3"
    },
    "language_info": {
      "name": "python"
    }
  },
  "cells": [
    {
      "cell_type": "markdown",
      "metadata": {
        "id": "view-in-github",
        "colab_type": "text"
      },
      "source": [
        "<a href=\"https://colab.research.google.com/github/unknown137-dimas/CapstoneProject/blob/master/ML/dataset_model.ipynb\" target=\"_parent\"><img src=\"https://colab.research.google.com/assets/colab-badge.svg\" alt=\"Open In Colab\"/></a>"
      ]
    },
    {
      "cell_type": "markdown",
      "source": [
        "# Setup"
      ],
      "metadata": {
        "id": "RNVNQAgw-JL2"
      }
    },
    {
      "cell_type": "code",
      "execution_count": 1,
      "metadata": {
        "id": "ZO3-CIp73_KK"
      },
      "outputs": [],
      "source": [
        "import tensorflow as tf\n",
        "import numpy as np\n",
        "import pandas as pd\n",
        "from tensorflow import keras\n",
        "import matplotlib.pyplot as plt"
      ]
    },
    {
      "cell_type": "code",
      "source": [
        "#!pip install tensorflowjs"
      ],
      "metadata": {
        "id": "Jrka3Wv_395a"
      },
      "execution_count": null,
      "outputs": []
    },
    {
      "cell_type": "code",
      "source": [
        "from google.colab import drive\n",
        "drive.mount('/content/drive')"
      ],
      "metadata": {
        "colab": {
          "base_uri": "https://localhost:8080/"
        },
        "id": "R6zHhGpajwSG",
        "outputId": "167fc448-db82-4c50-fc80-05d5dce4e412"
      },
      "execution_count": 2,
      "outputs": [
        {
          "output_type": "stream",
          "name": "stdout",
          "text": [
            "Drive already mounted at /content/drive; to attempt to forcibly remount, call drive.mount(\"/content/drive\", force_remount=True).\n"
          ]
        }
      ]
    },
    {
      "cell_type": "code",
      "source": [
        "TRAIN_FILE_PATH = '/content/drive/MyDrive/Colab Notebooks/Capstone Project/train_dataset.csv'\n",
        "TEST_FILE_PATH = '/content/drive/MyDrive/Colab Notebooks/Capstone Project/test_dataset.csv'\n",
        "SAVED_FOLDER_PATH = '/content/drive/MyDrive/Colab\\ Notebooks/Capstone\\ Project/savedModel/'\n",
        "TFLITE_FOLDER_PATH = '/content/drive/MyDrive/Colab\\ Notebooks/Capstone\\ Project/TFLite/'\n",
        "TFJS_FOLDER_PATH = '/content/drive/MyDrive/Colab\\ Notebooks/Capstone\\ Project/TFJS/'\n",
        "SAVED_FILE_PATH = SAVED_FOLDER_PATH + 'dataset_model'\n",
        "TFLITE_FILE_PATH = TFLITE_FOLDER_PATH + 'converted_model.tflite'"
      ],
      "metadata": {
        "id": "eGSN4V_i-LnU"
      },
      "execution_count": 20,
      "outputs": []
    },
    {
      "cell_type": "code",
      "source": [
        "# Make numpy values easier to read.\n",
        "np.set_printoptions(precision=3, suppress=True)"
      ],
      "metadata": {
        "id": "Z3SG_cZmwafc"
      },
      "execution_count": 4,
      "outputs": []
    },
    {
      "cell_type": "markdown",
      "source": [
        "# Data Preprocessing"
      ],
      "metadata": {
        "id": "K6W5h6Y5z3mn"
      }
    },
    {
      "cell_type": "code",
      "source": [
        "train_file = pd.read_csv(TRAIN_FILE_PATH)\n",
        "test_file = pd.read_csv(TEST_FILE_PATH)\n",
        "labels = ['finance', 'branding']"
      ],
      "metadata": {
        "id": "Y5yNKE470ED1"
      },
      "execution_count": 5,
      "outputs": []
    },
    {
      "cell_type": "code",
      "source": [
        "train_dataset = tf.data.Dataset.from_tensor_slices((train_file.drop('label', axis=1).values, train_file['label'].values)).shuffle(150)\n",
        "train_dataset = train_dataset.map(lambda x, y: (x, tf.where(tf.equal(labels, y))[0])).batch(50)\n",
        "\n",
        "test_dataset = tf.data.Dataset.from_tensor_slices((test_file.drop('label', axis=1).values, test_file['label'].values))\n",
        "test_dataset = test_dataset.map(lambda x, y: (x, tf.where(tf.equal(labels, y))[0])).batch(50)"
      ],
      "metadata": {
        "id": "N0umvvmA8t03"
      },
      "execution_count": 6,
      "outputs": []
    },
    {
      "cell_type": "markdown",
      "source": [
        "# Model Training"
      ],
      "metadata": {
        "id": "WwTfKQWczuwH"
      }
    },
    {
      "cell_type": "code",
      "source": [
        "model = tf.keras.Sequential([keras.layers.Dense(units=128, activation='relu'),\n",
        "                             keras.layers.Dense(units=128, activation='relu'),\n",
        "                             keras.layers.Dense(units=2, activation='softmax')\n",
        "                            ])"
      ],
      "metadata": {
        "id": "gI_5ABl24CPg"
      },
      "execution_count": 7,
      "outputs": []
    },
    {
      "cell_type": "code",
      "source": [
        "# Compile the model\n",
        "model.compile(optimizer='adam', loss='sparse_categorical_crossentropy',metrics=['accuracy'])"
      ],
      "metadata": {
        "id": "Iz9zLXE54EIn"
      },
      "execution_count": 8,
      "outputs": []
    },
    {
      "cell_type": "code",
      "source": [
        "# Train the model\n",
        "history = model.fit(train_dataset, epochs=15, validation_data=test_dataset)"
      ],
      "metadata": {
        "id": "DnfRa7sD4Hfd",
        "colab": {
          "base_uri": "https://localhost:8080/"
        },
        "outputId": "df68fe36-1800-4233-a6cb-2cc56f3f92c9"
      },
      "execution_count": 9,
      "outputs": [
        {
          "output_type": "stream",
          "name": "stdout",
          "text": [
            "Epoch 1/15\n",
            "20/20 [==============================] - 1s 11ms/step - loss: 0.4156 - accuracy: 0.8400 - val_loss: 0.2622 - val_accuracy: 0.8700\n",
            "Epoch 2/15\n",
            "20/20 [==============================] - 0s 6ms/step - loss: 0.1877 - accuracy: 0.9530 - val_loss: 0.1550 - val_accuracy: 1.0000\n",
            "Epoch 3/15\n",
            "20/20 [==============================] - 0s 5ms/step - loss: 0.1232 - accuracy: 0.9880 - val_loss: 0.0988 - val_accuracy: 0.9800\n",
            "Epoch 4/15\n",
            "20/20 [==============================] - 0s 4ms/step - loss: 0.0919 - accuracy: 0.9830 - val_loss: 0.0746 - val_accuracy: 1.0000\n",
            "Epoch 5/15\n",
            "20/20 [==============================] - 0s 4ms/step - loss: 0.0697 - accuracy: 1.0000 - val_loss: 0.0582 - val_accuracy: 1.0000\n",
            "Epoch 6/15\n",
            "20/20 [==============================] - 0s 5ms/step - loss: 0.0598 - accuracy: 0.9980 - val_loss: 0.0529 - val_accuracy: 1.0000\n",
            "Epoch 7/15\n",
            "20/20 [==============================] - 0s 6ms/step - loss: 0.0519 - accuracy: 1.0000 - val_loss: 0.0396 - val_accuracy: 1.0000\n",
            "Epoch 8/15\n",
            "20/20 [==============================] - 0s 5ms/step - loss: 0.0415 - accuracy: 1.0000 - val_loss: 0.0358 - val_accuracy: 1.0000\n",
            "Epoch 9/15\n",
            "20/20 [==============================] - 0s 5ms/step - loss: 0.0362 - accuracy: 1.0000 - val_loss: 0.0298 - val_accuracy: 1.0000\n",
            "Epoch 10/15\n",
            "20/20 [==============================] - 0s 5ms/step - loss: 0.0319 - accuracy: 1.0000 - val_loss: 0.0233 - val_accuracy: 1.0000\n",
            "Epoch 11/15\n",
            "20/20 [==============================] - 0s 5ms/step - loss: 0.0265 - accuracy: 1.0000 - val_loss: 0.0203 - val_accuracy: 1.0000\n",
            "Epoch 12/15\n",
            "20/20 [==============================] - 0s 5ms/step - loss: 0.0223 - accuracy: 1.0000 - val_loss: 0.0196 - val_accuracy: 1.0000\n",
            "Epoch 13/15\n",
            "20/20 [==============================] - 0s 5ms/step - loss: 0.0196 - accuracy: 1.0000 - val_loss: 0.0159 - val_accuracy: 1.0000\n",
            "Epoch 14/15\n",
            "20/20 [==============================] - 0s 5ms/step - loss: 0.0179 - accuracy: 1.0000 - val_loss: 0.0131 - val_accuracy: 1.0000\n",
            "Epoch 15/15\n",
            "20/20 [==============================] - 0s 5ms/step - loss: 0.0145 - accuracy: 1.0000 - val_loss: 0.0119 - val_accuracy: 1.0000\n"
          ]
        }
      ]
    },
    {
      "cell_type": "code",
      "source": [
        "model.summary()"
      ],
      "metadata": {
        "colab": {
          "base_uri": "https://localhost:8080/"
        },
        "id": "TEDWc5tv_RXl",
        "outputId": "eb33d2d3-48f5-4e2f-d06f-5d16126fca94"
      },
      "execution_count": 10,
      "outputs": [
        {
          "output_type": "stream",
          "name": "stdout",
          "text": [
            "Model: \"sequential\"\n",
            "_________________________________________________________________\n",
            " Layer (type)                Output Shape              Param #   \n",
            "=================================================================\n",
            " dense (Dense)               (None, 128)               896       \n",
            "                                                                 \n",
            " dense_1 (Dense)             (None, 128)               16512     \n",
            "                                                                 \n",
            " dense_2 (Dense)             (None, 2)                 258       \n",
            "                                                                 \n",
            "=================================================================\n",
            "Total params: 17,666\n",
            "Trainable params: 17,666\n",
            "Non-trainable params: 0\n",
            "_________________________________________________________________\n"
          ]
        }
      ]
    },
    {
      "cell_type": "code",
      "source": [
        "#-----------------------------------------------------------\n",
        "# Retrieve a list of list results on training data\n",
        "# sets for the last 100 training epoch\n",
        "#-----------------------------------------------------------\n",
        "\n",
        "acc=history.history['accuracy']\n",
        "loss=history.history['loss']\n",
        "val_acc=history.history['val_accuracy']\n",
        "val_loss=history.history['val_loss']\n",
        "\n",
        "epochs=range(len(acc)) # Get number of epochs\n",
        "\n",
        "#------------------------------------------------\n",
        "# Plot training and validation accuracy per epoch\n",
        "#------------------------------------------------\n",
        "plt.plot(epochs, acc, 'r')\n",
        "plt.plot(epochs, val_acc, 'b')\n",
        "plt.title('Training and validation accuracy')\n",
        "plt.legend(['accuracy', 'val_accuracy'])\n",
        "plt.xlabel('Epoch')\n",
        "plt.ylabel('Accuracy')\n",
        "plt.show()\n",
        "print(\"\")\n",
        "\n",
        "#------------------------------------------------\n",
        "# Plot training and validation loss per epoch\n",
        "#------------------------------------------------\n",
        "plt.plot(epochs, loss,'r')\n",
        "plt.plot(epochs, val_loss, 'b')\n",
        "plt.title('Training and validation loss')\n",
        "plt.legend(['loss', 'val_loss'])\n",
        "plt.xlabel('Epoch')\n",
        "plt.ylabel('Loss')\n",
        "plt.show()"
      ],
      "metadata": {
        "colab": {
          "base_uri": "https://localhost:8080/",
          "height": 590
        },
        "id": "v0Sv6DGcDw0f",
        "outputId": "38637bb2-5367-4dea-8775-61996fc9f540"
      },
      "execution_count": 11,
      "outputs": [
        {
          "output_type": "display_data",
          "data": {
            "text/plain": [
              "<Figure size 432x288 with 1 Axes>"
            ],
            "image/png": "[encoded data removed]"
          },
          "metadata": {
            "needs_background": "light"
          }
        },
        {
          "output_type": "stream",
          "name": "stdout",
          "text": [
            "\n"
          ]
        },
        {
          "output_type": "display_data",
          "data": {
            "text/plain": [
              "<Figure size 432x288 with 1 Axes>"
            ],
            "image/png": "[encoded data removed]"
          },
          "metadata": {
            "needs_background": "light"
          }
        }
      ]
    },
    {
      "cell_type": "code",
      "source": [
        "test_loss, test_accuracy = model.evaluate(test_dataset)"
      ],
      "metadata": {
        "colab": {
          "base_uri": "https://localhost:8080/"
        },
        "id": "mCXx94OGIAM3",
        "outputId": "dad74aad-0913-486f-bd87-848f51571e36"
      },
      "execution_count": 12,
      "outputs": [
        {
          "output_type": "stream",
          "name": "stdout",
          "text": [
            "2/2 [==============================] - 0s 9ms/step - loss: 0.0119 - accuracy: 1.0000\n"
          ]
        }
      ]
    },
    {
      "cell_type": "markdown",
      "source": [
        "# Prediction"
      ],
      "metadata": {
        "id": "Kj6AghW8z9mC"
      }
    },
    {
      "cell_type": "code",
      "source": [
        "# Make a prediction\n",
        "#['finance', 'branding']\n",
        "output_array = model.predict([[4,4,5,4,4,4]])\n",
        "print(output_array, labels[np.argmax(output_array)])"
      ],
      "metadata": {
        "id": "T30WJhBW4I5e",
        "colab": {
          "base_uri": "https://localhost:8080/"
        },
        "outputId": "720adbbd-ebdd-4ee6-a8d2-e59c0065cae2"
      },
      "execution_count": 13,
      "outputs": [
        {
          "output_type": "stream",
          "name": "stdout",
          "text": [
            "[[0.081 0.919]] branding\n"
          ]
        }
      ]
    },
    {
      "cell_type": "markdown",
      "source": [
        "# Save Model"
      ],
      "metadata": {
        "id": "uhaeMj4Ks7fy"
      }
    },
    {
      "cell_type": "code",
      "source": [
        "!mkdir -p {SAVED_FOLDER_PATH}\n",
        "model.save(SAVED_FILE_PATH)"
      ],
      "metadata": {
        "id": "B1eW_E5RtCqD"
      },
      "execution_count": null,
      "outputs": []
    },
    {
      "cell_type": "markdown",
      "source": [
        "# Test Saved Model"
      ],
      "metadata": {
        "id": "00zag5Ef6uPM"
      }
    },
    {
      "cell_type": "code",
      "source": [
        "saved_model = tf.keras.models.load_model(SAVED_FILE_PATH)\n",
        "\n",
        "# Make a prediction\n",
        "#['finance', 'branding']\n",
        "output_array = saved_model.predict([[4,3,2,3,1,2]])\n",
        "print(output_array, labels[np.argmax(output_array)])"
      ],
      "metadata": {
        "colab": {
          "base_uri": "https://localhost:8080/"
        },
        "id": "_RbDLGZo63Nd",
        "outputId": "af87e416-6934-480f-ba36-4eac552d7dff"
      },
      "execution_count": 15,
      "outputs": [
        {
          "output_type": "stream",
          "name": "stdout",
          "text": [
            "[[0. 1.]] branding\n"
          ]
        }
      ]
    },
    {
      "cell_type": "markdown",
      "source": [
        "# Convert to TFLite"
      ],
      "metadata": {
        "id": "m4OKdrSB35jE"
      }
    },
    {
      "cell_type": "code",
      "source": [
        "!mkdir -p {TFLITE_FOLDER_PATH}\n",
        "converter = tf.lite.TFLiteConverter.from_saved_model(SAVED_FILE_PATH)\n",
        "converter.optimizations = [tf.lite.Optimize.DEFAULT]\n",
        "tflite_model = converter.convert()\n",
        "with open(TFLITE_FILE_PATH, \"wb\") as f:\n",
        "    f.write(tflite_model)"
      ],
      "metadata": {
        "colab": {
          "base_uri": "https://localhost:8080/"
        },
        "id": "537v3Lgp3-T0",
        "outputId": "98240061-d571-4875-c210-1d3d0bddb29e"
      },
      "execution_count": 17,
      "outputs": [
        {
          "output_type": "stream",
          "name": "stderr",
          "text": [
            "WARNING:absl:Buffer deduplication procedure will be skipped when flatbuffer library is not properly loaded\n"
          ]
        }
      ]
    },
    {
      "cell_type": "markdown",
      "source": [
        "# Test Converted Model"
      ],
      "metadata": {
        "id": "vanG5Ehe9k8V"
      }
    },
    {
      "cell_type": "code",
      "source": [
        "interpreter = tf.lite.Interpreter(TFLITE_FILE_PATH)\n",
        "interpreter.allocate_tensors()\n",
        "input_index = interpreter.get_input_details()[0][\"index\"]\n",
        "output_index = interpreter.get_output_details()[0][\"index\"]\n",
        "\n",
        "# Make a prediction\n",
        "#['finance', 'branding']\n",
        "interpreter.set_tensor(input_index, [[4,4,5,4,4,4]])\n",
        "interpreter.invoke()\n",
        "output_array = interpreter.get_tensor(output_index)\n",
        "print(output_array, labels[np.argmax(output_array)])"
      ],
      "metadata": {
        "colab": {
          "base_uri": "https://localhost:8080/"
        },
        "id": "cU1B_SCE_Cot",
        "outputId": "3bf9b585-7930-4577-c254-9e09fb802899"
      },
      "execution_count": 18,
      "outputs": [
        {
          "output_type": "stream",
          "name": "stdout",
          "text": [
            "[[0.088 0.912]] branding\n"
          ]
        }
      ]
    },
    {
      "cell_type": "markdown",
      "source": [
        "# Convert to TFJS\n"
      ],
      "metadata": {
        "id": "k4uQ9CUZ2dPj"
      }
    },
    {
      "cell_type": "code",
      "source": [
        "# Workaround for argument in tensorflowjs_converter tool where there is space in input_path & output_path argument\n",
        "!mkdir -p {TFJS_FOLDER_PATH} 'dataset_model'\n",
        "!cp -r {SAVED_FOLDER_PATH} ./\n",
        "!tensorflowjs_converter --input_format=keras_saved_model ./savedModel/dataset_model ./dataset_model\n",
        "!cp -r dataset_model {TFJS_FOLDER_PATH}"
      ],
      "metadata": {
        "colab": {
          "base_uri": "https://localhost:8080/"
        },
        "id": "YQJUyk7C2kzo",
        "outputId": "a4f3aef2-3f7b-4e56-eaad-a5b608548620"
      },
      "execution_count": 42,
      "outputs": [
        {
          "output_type": "stream",
          "name": "stdout",
          "text": [
            "2022-06-02 15:23:12.826850: E tensorflow/stream_executor/cuda/cuda_driver.cc:271] failed call to cuInit: CUDA_ERROR_NO_DEVICE: no CUDA-capable device is detected\n"
          ]
        }
      ]
    }
  ]
}