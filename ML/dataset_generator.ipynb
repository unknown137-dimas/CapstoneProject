{
  "nbformat": 4,
  "nbformat_minor": 0,
  "metadata": {
    "colab": {
      "name": "dataset_generator.ipynb",
      "provenance": [],
      "collapsed_sections": [],
      "toc_visible": true,
      "mount_file_id": "1oI5piFTksoiTNSD5B5_5IMMDF5NE_0cY",
      "authorship_tag": "ABX9TyN+on1hRhxI9BmWOtx2BflF",
      "include_colab_link": true
    },
    "kernelspec": {
      "name": "python3",
      "display_name": "Python 3"
    },
    "language_info": {
      "name": "python"
    }
  },
  "cells": [
    {
      "cell_type": "markdown",
      "metadata": {
        "id": "view-in-github",
        "colab_type": "text"
      },
      "source": [
        "<a href=\"https://colab.research.google.com/github/unknown137-dimas/CapstoneProject/blob/master/ML/dataset_generator.ipynb\" target=\"_parent\"><img src=\"https://colab.research.google.com/assets/colab-badge.svg\" alt=\"Open In Colab\"/></a>"
      ]
    },
    {
      "cell_type": "markdown",
      "source": [
        "# Setup"
      ],
      "metadata": {
        "id": "qGrsGn5RloGT"
      }
    },
    {
      "cell_type": "code",
      "execution_count": 8,
      "metadata": {
        "id": "AzTcLSqVkkuf"
      },
      "outputs": [],
      "source": [
        "import csv\n",
        "from random import randint\n",
        "import numpy"
      ]
    },
    {
      "cell_type": "code",
      "source": [
        "labels = ['finance', 'branding'] # Change this accordingly\n",
        "output_name = '_dataset.csv' # Change this accordingly\n",
        "row_number = 1000 # Change this accordingly\n",
        "questions_per_category = 3 # Change this accordingly\n",
        "directory = '/content/drive/MyDrive/Colab Notebooks/Capstone Project/'\n",
        "category_number = len(labels)\n",
        "input_length = category_number * questions_per_category"
      ],
      "metadata": {
        "id": "XM6MG5RHmOXg"
      },
      "execution_count": 9,
      "outputs": []
    },
    {
      "cell_type": "markdown",
      "source": [
        "# Function"
      ],
      "metadata": {
        "id": "-92gL9xGnJOC"
      }
    },
    {
      "cell_type": "code",
      "source": [
        "def random_values():\n",
        "    '''Generate random values'''\n",
        "    value = randint(1, 5)\n",
        "    return value"
      ],
      "metadata": {
        "id": "5zwgJX-QkmUF"
      },
      "execution_count": 10,
      "outputs": []
    },
    {
      "cell_type": "code",
      "source": [
        "def random_answer(input_length):\n",
        "    '''Generate random answer'''\n",
        "    answer = []\n",
        "    for _ in range(input_length):\n",
        "        answer.append(random_values())\n",
        "    return answer"
      ],
      "metadata": {
        "id": "aSqXWwpWkmYM"
      },
      "execution_count": 11,
      "outputs": []
    },
    {
      "cell_type": "code",
      "source": [
        "def header_generator(category_number, questions_per_category):\n",
        "    '''Generate header for the dataset'''\n",
        "    header = []\n",
        "    for c in range(1,category_number+1):\n",
        "        for q in range(1,questions_per_category+1):\n",
        "            header.append('c{}q{}'.format(c,q))\n",
        "    header.append('label')\n",
        "    return header"
      ],
      "metadata": {
        "id": "nMw2M5zfkmbL"
      },
      "execution_count": 12,
      "outputs": []
    },
    {
      "cell_type": "code",
      "source": [
        "def label_answer(answer, labels, input_length):\n",
        "    '''Return label based on the answers'''\n",
        "    sum = []\n",
        "    for i in range(0,input_length-1,questions_per_category):\n",
        "        sum.append(numpy.sum(answer[i:i+questions_per_category]))\n",
        "    return labels[numpy.argmin(sum)]"
      ],
      "metadata": {
        "id": "bki1XPuVkraK"
      },
      "execution_count": 13,
      "outputs": []
    },
    {
      "cell_type": "markdown",
      "source": [
        "# Generate Dataset"
      ],
      "metadata": {
        "id": "8h25t7JNm-3E"
      }
    },
    {
      "cell_type": "code",
      "source": [
        "header = header_generator(category_number=category_number, questions_per_category=questions_per_category)\n",
        "with open(directory + output_name, 'w') as csvfile:\n",
        "    writer = csv.writer(csvfile,lineterminator='\\n')\n",
        "    writer.writerow(header)\n",
        "    for _ in range(row_number):\n",
        "        answer = random_answer(input_length=input_length)\n",
        "        label = label_answer(answer=answer, labels=labels, input_length=input_length)\n",
        "        answer.append(label)\n",
        "        writer.writerow(answer)"
      ],
      "metadata": {
        "id": "pvzE8ndOktM7"
      },
      "execution_count": 14,
      "outputs": []
    }
  ]
}